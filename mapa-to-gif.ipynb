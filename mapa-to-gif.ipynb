{
 "cells": [
  {
   "cell_type": "code",
   "execution_count": 21,
   "metadata": {},
   "outputs": [],
   "source": [
    "import os\n",
    "import time\n",
    "from selenium import webdriver\n",
    "import glob\n",
    "import imageio\n",
    "\n",
    "#driver = webdriver.Chrome('C:/webdrivers/chromedriver.exe')\n"
   ]
  },
  {
   "cell_type": "code",
   "execution_count": 22,
   "metadata": {},
   "outputs": [],
   "source": [
    "def folium_map_to_png(filename, dest_folder_name):\n",
    "    delay = 5\n",
    "    input_dir = 'file://{path}/{dirname}/{mapfile}'.format(path=os.getcwd(),dirname=\"acidentes\",mapfile=filename)\n",
    "    #Open a browser window...\n",
    "    #browser = webdriver.Firefox(executable_path=os.path.abspath(\"geckodriver\"))\n",
    "    browser = webdriver.Chrome('C:/webdrivers/chromedriver.exe')\n",
    "    #..that displays the map...\n",
    "    browser.get(input_dir)\n",
    "    #Give the map tiles some time to load\n",
    "    time.sleep(delay)\n",
    "    #Grab the screenshot\n",
    "    curr_dir = os.getcwd()\n",
    "    src_folder = curr_dir + dest_folder_name\n",
    "    if not os.path.exists(src_folder):\n",
    "        os.mkdir(src_folder)\n",
    "    src_subfolder = src_folder + filename.rpartition(\"_\")[0] + \"/\"\n",
    "    if not os.path.exists(src_subfolder):\n",
    "        os.mkdir(src_subfolder)\n",
    "    pic = src_subfolder + filename.split(\".\")[0] + \".png\"\n",
    "    browser.save_screenshot(pic)\n",
    "    #Close the browser\n",
    "    browser.quit()"
   ]
  },
  {
   "cell_type": "code",
   "execution_count": 30,
   "metadata": {},
   "outputs": [
    {
     "name": "stdout",
     "output_type": "stream",
     "text": [
      "C:\\Users\\bnv\\Documents\\py\\bombeiros\\acidentes\\jlle_map_acidentes_01.html\n",
      "C:\\Users\\bnv\\Documents\\py\\bombeiros\\acidentes\\jlle_map_acidentes_02.html\n",
      "C:\\Users\\bnv\\Documents\\py\\bombeiros\\acidentes\\jlle_map_acidentes_03.html\n",
      "C:\\Users\\bnv\\Documents\\py\\bombeiros\\acidentes\\jlle_map_acidentes_04.html\n",
      "C:\\Users\\bnv\\Documents\\py\\bombeiros\\acidentes\\jlle_map_acidentes_05.html\n",
      "C:\\Users\\bnv\\Documents\\py\\bombeiros\\acidentes\\jlle_map_acidentes_06.html\n",
      "C:\\Users\\bnv\\Documents\\py\\bombeiros\\acidentes\\jlle_map_acidentes_07.html\n",
      "C:\\Users\\bnv\\Documents\\py\\bombeiros\\acidentes\\jlle_map_acidentes_08.html\n",
      "C:\\Users\\bnv\\Documents\\py\\bombeiros\\acidentes\\jlle_map_acidentes_09.html\n",
      "C:\\Users\\bnv\\Documents\\py\\bombeiros\\acidentes\\jlle_map_acidentes_10.html\n",
      "C:\\Users\\bnv\\Documents\\py\\bombeiros\\acidentes\\jlle_map_acidentes_11.html\n",
      "C:\\Users\\bnv\\Documents\\py\\bombeiros\\acidentes\\jlle_map_acidentes_12.html\n",
      "C:\\Users\\bnv\\Documents\\py\\bombeiros\\acidentes\\jlle_map_acidentes_13.html\n",
      "C:\\Users\\bnv\\Documents\\py\\bombeiros\\acidentes\\jlle_map_acidentes_14.html\n",
      "C:\\Users\\bnv\\Documents\\py\\bombeiros\\acidentes\\jlle_map_acidentes_15.html\n",
      "C:\\Users\\bnv\\Documents\\py\\bombeiros\\acidentes\\jlle_map_acidentes_16.html\n",
      "C:\\Users\\bnv\\Documents\\py\\bombeiros\\acidentes\\jlle_map_acidentes_17.html\n",
      "C:\\Users\\bnv\\Documents\\py\\bombeiros\\acidentes\\jlle_map_acidentes_18.html\n",
      "C:\\Users\\bnv\\Documents\\py\\bombeiros\\acidentes\\jlle_map_acidentes_19.html\n",
      "C:\\Users\\bnv\\Documents\\py\\bombeiros\\acidentes\\jlle_map_acidentes_20.html\n",
      "C:\\Users\\bnv\\Documents\\py\\bombeiros\\acidentes\\jlle_map_acidentes_21.html\n",
      "C:\\Users\\bnv\\Documents\\py\\bombeiros\\acidentes\\jlle_map_acidentes_22.html\n",
      "C:\\Users\\bnv\\Documents\\py\\bombeiros\\acidentes\\jlle_map_acidentes_23.html\n",
      "C:\\Users\\bnv\\Documents\\py\\bombeiros\\acidentes\\jlle_map_acidentes_24.html\n",
      "C:\\Users\\bnv\\Documents\\py\\bombeiros\\acidentes\\jlle_map_acidentes_25.html\n",
      "C:\\Users\\bnv\\Documents\\py\\bombeiros\\acidentes\\jlle_map_acidentes_26.html\n",
      "C:\\Users\\bnv\\Documents\\py\\bombeiros\\acidentes\\jlle_map_acidentes_27.html\n"
     ]
    }
   ],
   "source": [
    "curr_dir = os.getcwd()\n",
    "#print(curr_dir)\n",
    "#files =glob.glob(curr_dir+\"\\map\\*.html\")\n",
    "files =glob.glob(curr_dir+\"\\\\acidentes\\jlle_map_acidentes_*.html\")\n",
    "\n",
    "\n",
    "for file in files:\n",
    "    print(file)\n",
    "    filename = file.split(\"\\\\\")[-1]\n",
    "    folium_map_to_png(filename, \"/png_src/\")"
   ]
  },
  {
   "cell_type": "code",
   "execution_count": 31,
   "metadata": {},
   "outputs": [],
   "source": [
    "def create_gif(filenames, duration):\n",
    "    images = []\n",
    "    for filename in filenames:\n",
    "        images.append(imageio.imread(filename))\n",
    "    output_file = 'Gif-%s.gif' % filename.split(\"\\\\\")[-1].split(\".\")[0]\n",
    "    imageio.mimsave(output_file, images, duration=duration)"
   ]
  },
  {
   "cell_type": "code",
   "execution_count": 32,
   "metadata": {},
   "outputs": [],
   "source": [
    "curr_dir = os.getcwd()\n",
    "folders_path = curr_dir+\"/png_src/\"\n",
    "folders = os.listdir(folders_path)\n",
    "for folder in folders:\n",
    "    path_name = folders_path+\"/\"+folder+\"/*.png\"\n",
    "    files =glob.glob(path_name)\n",
    "    duration = 0.5 \n",
    "    create_gif(files, duration)"
   ]
  }
 ],
 "metadata": {
  "kernelspec": {
   "display_name": "Python 3",
   "language": "python",
   "name": "python3"
  },
  "language_info": {
   "codemirror_mode": {
    "name": "ipython",
    "version": 3
   },
   "file_extension": ".py",
   "mimetype": "text/x-python",
   "name": "python",
   "nbconvert_exporter": "python",
   "pygments_lexer": "ipython3",
   "version": "3.7.6"
  }
 },
 "nbformat": 4,
 "nbformat_minor": 4
}
